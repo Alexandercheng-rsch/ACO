{
 "cells": [
  {
   "cell_type": "code",
   "id": "initial_id",
   "metadata": {
    "collapsed": true,
    "ExecuteTime": {
     "end_time": "2024-07-03T15:46:43.338544Z",
     "start_time": "2024-07-03T15:46:43.319491Z"
    }
   },
   "source": [
    "import vrplib\n",
    "file = 'A-n32-k5.vrp'\n",
    "re = vrplib.read_instance(file)\n",
    "demand = re['demand']\n",
    "distance_matrix = re['edge_weight']\n",
    "capacity = re['capacity']\n",
    "print(demand)"
   ],
   "outputs": [
    {
     "name": "stdout",
     "output_type": "stream",
     "text": [
      "[ 0 19 21  6 19  7 12 16  6 16  8 14 21 16  3 22 18 19  1 24  8 12  4  8\n",
      " 24 24  2 20 15  2 14  9]\n"
     ]
    }
   ],
   "execution_count": 10
  }
 ],
 "metadata": {
  "kernelspec": {
   "display_name": "Python 3",
   "language": "python",
   "name": "python3"
  },
  "language_info": {
   "codemirror_mode": {
    "name": "ipython",
    "version": 2
   },
   "file_extension": ".py",
   "mimetype": "text/x-python",
   "name": "python",
   "nbconvert_exporter": "python",
   "pygments_lexer": "ipython2",
   "version": "2.7.6"
  }
 },
 "nbformat": 4,
 "nbformat_minor": 5
}
