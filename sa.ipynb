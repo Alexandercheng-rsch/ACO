{
 "cells": [
  {
   "cell_type": "code",
   "id": "initial_id",
   "metadata": {
    "collapsed": true,
    "ExecuteTime": {
     "end_time": "2024-07-16T09:32:12.242441Z",
     "start_time": "2024-07-16T09:32:12.221880Z"
    }
   },
   "source": [
    "import numpy as np \n",
    "\n",
    "\n",
    "def rand_choice_nb_multiple(arr, num_samples):\n",
    "    \"\"\"\n",
    "    :param arr: A 1D numpy array of values to sample from.\n",
    "    :param num_samples: Number of samples to choose.\n",
    "    :return: An array of random samples chosen without replacement.\n",
    "    \"\"\"\n",
    "    result = np.empty(num_samples, dtype=arr.dtype)\n",
    "    temp_arr = arr.copy()\n",
    "    for i in range(num_samples):\n",
    "        idx = np.random.randint(0, len(temp_arr))\n",
    "        result[i] = temp_arr[idx]\n",
    "        temp_arr[idx] = temp_arr[-1]\n",
    "        temp_arr = temp_arr[:-1]\n",
    "    return result\n",
    "\n",
    "rand_choice_nb_multiple(np.array(range(1, 6)),2)"
   ],
   "outputs": [
    {
     "data": {
      "text/plain": [
       "array([3, 1])"
      ]
     },
     "execution_count": 71,
     "metadata": {},
     "output_type": "execute_result"
    }
   ],
   "execution_count": 71
  },
  {
   "metadata": {
    "ExecuteTime": {
     "end_time": "2024-07-16T09:29:34.894271Z",
     "start_time": "2024-07-16T09:29:34.889272Z"
    }
   },
   "cell_type": "code",
   "source": "list(range(1, 6))",
   "id": "3f38cf37874b795d",
   "outputs": [
    {
     "data": {
      "text/plain": [
       "[1, 2, 3, 4, 5]"
      ]
     },
     "execution_count": 59,
     "metadata": {},
     "output_type": "execute_result"
    }
   ],
   "execution_count": 59
  }
 ],
 "metadata": {
  "kernelspec": {
   "display_name": "Python 3",
   "language": "python",
   "name": "python3"
  },
  "language_info": {
   "codemirror_mode": {
    "name": "ipython",
    "version": 2
   },
   "file_extension": ".py",
   "mimetype": "text/x-python",
   "name": "python",
   "nbconvert_exporter": "python",
   "pygments_lexer": "ipython2",
   "version": "2.7.6"
  }
 },
 "nbformat": 4,
 "nbformat_minor": 5
}
